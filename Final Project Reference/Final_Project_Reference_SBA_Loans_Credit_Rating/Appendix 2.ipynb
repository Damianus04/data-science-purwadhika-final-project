{
 "cells": [
  {
   "cell_type": "code",
   "execution_count": 0,
   "metadata": {
    "colab": {
     "base_uri": "https://localhost:8080/",
     "height": 72
    },
    "colab_type": "code",
    "id": "2tTr1HGIvWYr",
    "outputId": "251bc2a0-d513-4258-b71f-fb86ba054c81"
   },
   "outputs": [
    {
     "name": "stderr",
     "output_type": "stream",
     "text": [
      "/usr/local/lib/python3.6/dist-packages/statsmodels/tools/_testing.py:19: FutureWarning: pandas.util.testing is deprecated. Use the functions in the public API at pandas.testing instead.\n",
      "  import pandas.util.testing as tm\n"
     ]
    }
   ],
   "source": [
    "# ------------------------------ Import library\n",
    "\n",
    "import pandas as pd\n",
    "import numpy as np\n",
    "import matplotlib.pyplot as plt\n",
    "import seaborn as sns\n",
    "from google.colab import drive # import csv data from gdrive\n",
    "from sklearn.model_selection import train_test_split, cross_val_score\n",
    "from sklearn.linear_model import LogisticRegression\n",
    "from sklearn.tree import DecisionTreeClassifier\n",
    "from sklearn.ensemble import RandomForestClassifier\n",
    "from lightgbm import LGBMClassifier\n",
    "from sklearn.neighbors import KNeighborsClassifier\n",
    "from sklearn.metrics import classification_report, confusion_matrix, f1_score, accuracy_score, roc_curve, auc\n",
    "from sklearn.model_selection import GridSearchCV\n",
    "import warnings\n",
    "warnings.filterwarnings('ignore')"
   ]
  },
  {
   "cell_type": "code",
   "execution_count": 0,
   "metadata": {
    "colab": {
     "base_uri": "https://localhost:8080/",
     "height": 306
    },
    "colab_type": "code",
    "id": "yfFa1DQVvkT8",
    "outputId": "c1cc9660-ac86-471d-cdfc-127c8e8bbef6"
   },
   "outputs": [
    {
     "name": "stdout",
     "output_type": "stream",
     "text": [
      "Go to this URL in a browser: https://accounts.google.com/o/oauth2/auth?client_id=947318989803-6bn6qk8qdgf4n4g3pfee6491hc0brc4i.apps.googleusercontent.com&redirect_uri=urn%3aietf%3awg%3aoauth%3a2.0%3aoob&response_type=code&scope=email%20https%3a%2f%2fwww.googleapis.com%2fauth%2fdocs.test%20https%3a%2f%2fwww.googleapis.com%2fauth%2fdrive%20https%3a%2f%2fwww.googleapis.com%2fauth%2fdrive.photos.readonly%20https%3a%2f%2fwww.googleapis.com%2fauth%2fpeopleapi.readonly\n",
      "\n",
      "Enter your authorization code:\n",
      "··········\n",
      "Mounted at /content/gdrive\n"
     ]
    },
    {
     "data": {
      "text/html": [
       "<div>\n",
       "<style scoped>\n",
       "    .dataframe tbody tr th:only-of-type {\n",
       "        vertical-align: middle;\n",
       "    }\n",
       "\n",
       "    .dataframe tbody tr th {\n",
       "        vertical-align: top;\n",
       "    }\n",
       "\n",
       "    .dataframe thead th {\n",
       "        text-align: right;\n",
       "    }\n",
       "</style>\n",
       "<table border=\"1\" class=\"dataframe\">\n",
       "  <thead>\n",
       "    <tr style=\"text-align: right;\">\n",
       "      <th></th>\n",
       "      <th>Unnamed: 0</th>\n",
       "      <th>State</th>\n",
       "      <th>NAICS</th>\n",
       "      <th>ApprovalFY</th>\n",
       "      <th>Term</th>\n",
       "      <th>NoEmp</th>\n",
       "      <th>NewExist</th>\n",
       "      <th>FranchiseCode</th>\n",
       "      <th>DisbursementGross</th>\n",
       "      <th>MIS_Status</th>\n",
       "      <th>SBA_Appv</th>\n",
       "      <th>RealEstate</th>\n",
       "      <th>UrbanRural_1</th>\n",
       "      <th>UrbanRural_2</th>\n",
       "      <th>LowDoc_Y</th>\n",
       "    </tr>\n",
       "  </thead>\n",
       "  <tbody>\n",
       "    <tr>\n",
       "      <th>0</th>\n",
       "      <td>495</td>\n",
       "      <td>NY</td>\n",
       "      <td>72</td>\n",
       "      <td>2000</td>\n",
       "      <td>84</td>\n",
       "      <td>6</td>\n",
       "      <td>1</td>\n",
       "      <td>0</td>\n",
       "      <td>50800.0</td>\n",
       "      <td>P I F</td>\n",
       "      <td>25400.0</td>\n",
       "      <td>0</td>\n",
       "      <td>1</td>\n",
       "      <td>0</td>\n",
       "      <td>0</td>\n",
       "    </tr>\n",
       "    <tr>\n",
       "      <th>1</th>\n",
       "      <td>496</td>\n",
       "      <td>NH</td>\n",
       "      <td>42</td>\n",
       "      <td>2000</td>\n",
       "      <td>240</td>\n",
       "      <td>3</td>\n",
       "      <td>1</td>\n",
       "      <td>0</td>\n",
       "      <td>65000.0</td>\n",
       "      <td>P I F</td>\n",
       "      <td>32500.0</td>\n",
       "      <td>1</td>\n",
       "      <td>1</td>\n",
       "      <td>0</td>\n",
       "      <td>0</td>\n",
       "    </tr>\n",
       "    <tr>\n",
       "      <th>2</th>\n",
       "      <td>497</td>\n",
       "      <td>NY</td>\n",
       "      <td>31</td>\n",
       "      <td>2000</td>\n",
       "      <td>65</td>\n",
       "      <td>1</td>\n",
       "      <td>1</td>\n",
       "      <td>0</td>\n",
       "      <td>78800.0</td>\n",
       "      <td>CHGOFF</td>\n",
       "      <td>39400.0</td>\n",
       "      <td>0</td>\n",
       "      <td>1</td>\n",
       "      <td>0</td>\n",
       "      <td>0</td>\n",
       "    </tr>\n",
       "    <tr>\n",
       "      <th>3</th>\n",
       "      <td>499</td>\n",
       "      <td>ME</td>\n",
       "      <td>44</td>\n",
       "      <td>2000</td>\n",
       "      <td>84</td>\n",
       "      <td>3</td>\n",
       "      <td>1</td>\n",
       "      <td>0</td>\n",
       "      <td>105000.0</td>\n",
       "      <td>P I F</td>\n",
       "      <td>52500.0</td>\n",
       "      <td>0</td>\n",
       "      <td>1</td>\n",
       "      <td>0</td>\n",
       "      <td>0</td>\n",
       "    </tr>\n",
       "    <tr>\n",
       "      <th>4</th>\n",
       "      <td>500</td>\n",
       "      <td>NY</td>\n",
       "      <td>44</td>\n",
       "      <td>2000</td>\n",
       "      <td>84</td>\n",
       "      <td>8</td>\n",
       "      <td>0</td>\n",
       "      <td>0</td>\n",
       "      <td>25000.0</td>\n",
       "      <td>P I F</td>\n",
       "      <td>12500.0</td>\n",
       "      <td>0</td>\n",
       "      <td>1</td>\n",
       "      <td>0</td>\n",
       "      <td>0</td>\n",
       "    </tr>\n",
       "  </tbody>\n",
       "</table>\n",
       "</div>"
      ],
      "text/plain": [
       "   Unnamed: 0 State  NAICS  ...  UrbanRural_1  UrbanRural_2  LowDoc_Y\n",
       "0         495    NY     72  ...             1             0         0\n",
       "1         496    NH     42  ...             1             0         0\n",
       "2         497    NY     31  ...             1             0         0\n",
       "3         499    ME     44  ...             1             0         0\n",
       "4         500    NY     44  ...             1             0         0\n",
       "\n",
       "[5 rows x 15 columns]"
      ]
     },
     "execution_count": 2,
     "metadata": {
      "tags": []
     },
     "output_type": "execute_result"
    }
   ],
   "source": [
    "# -------- Import CSV\n",
    "\n",
    "drive.mount('/content/gdrive')\n",
    "df = pd.read_csv('gdrive/My Drive/Final Purwadhika/df_fix.csv')\n",
    "df.head()"
   ]
  },
  {
   "cell_type": "code",
   "execution_count": 0,
   "metadata": {
    "colab": {
     "base_uri": "https://localhost:8080/",
     "height": 426
    },
    "colab_type": "code",
    "id": "Md9f80xmvswD",
    "outputId": "2837fde4-d3e8-48eb-e901-f805e2d01041"
   },
   "outputs": [
    {
     "data": {
      "text/html": [
       "<div>\n",
       "<style scoped>\n",
       "    .dataframe tbody tr th:only-of-type {\n",
       "        vertical-align: middle;\n",
       "    }\n",
       "\n",
       "    .dataframe tbody tr th {\n",
       "        vertical-align: top;\n",
       "    }\n",
       "\n",
       "    .dataframe thead th {\n",
       "        text-align: right;\n",
       "    }\n",
       "</style>\n",
       "<table border=\"1\" class=\"dataframe\">\n",
       "  <thead>\n",
       "    <tr style=\"text-align: right;\">\n",
       "      <th></th>\n",
       "      <th>State</th>\n",
       "      <th>ApprovalFY</th>\n",
       "      <th>Term</th>\n",
       "      <th>NoEmp</th>\n",
       "      <th>NewExist</th>\n",
       "      <th>FranchiseCode</th>\n",
       "      <th>DisbursementGross</th>\n",
       "      <th>MIS_Status</th>\n",
       "      <th>SBA_Appv</th>\n",
       "      <th>RealEstate</th>\n",
       "      <th>UrbanRural_1</th>\n",
       "      <th>UrbanRural_2</th>\n",
       "      <th>LowDoc_Y</th>\n",
       "      <th>NAICS_11</th>\n",
       "      <th>NAICS_21</th>\n",
       "      <th>NAICS_22</th>\n",
       "      <th>NAICS_23</th>\n",
       "      <th>NAICS_31</th>\n",
       "      <th>NAICS_42</th>\n",
       "      <th>NAICS_44</th>\n",
       "      <th>NAICS_48</th>\n",
       "      <th>NAICS_51</th>\n",
       "      <th>NAICS_52</th>\n",
       "      <th>NAICS_53</th>\n",
       "      <th>NAICS_54</th>\n",
       "      <th>NAICS_55</th>\n",
       "      <th>NAICS_56</th>\n",
       "      <th>NAICS_61</th>\n",
       "      <th>NAICS_62</th>\n",
       "      <th>NAICS_71</th>\n",
       "      <th>NAICS_72</th>\n",
       "      <th>NAICS_81</th>\n",
       "      <th>NAICS_92</th>\n",
       "    </tr>\n",
       "  </thead>\n",
       "  <tbody>\n",
       "    <tr>\n",
       "      <th>0</th>\n",
       "      <td>NY</td>\n",
       "      <td>2000</td>\n",
       "      <td>84</td>\n",
       "      <td>6</td>\n",
       "      <td>1</td>\n",
       "      <td>0</td>\n",
       "      <td>50800.0</td>\n",
       "      <td>P I F</td>\n",
       "      <td>25400.0</td>\n",
       "      <td>0</td>\n",
       "      <td>1</td>\n",
       "      <td>0</td>\n",
       "      <td>0</td>\n",
       "      <td>0</td>\n",
       "      <td>0</td>\n",
       "      <td>0</td>\n",
       "      <td>0</td>\n",
       "      <td>0</td>\n",
       "      <td>0</td>\n",
       "      <td>0</td>\n",
       "      <td>0</td>\n",
       "      <td>0</td>\n",
       "      <td>0</td>\n",
       "      <td>0</td>\n",
       "      <td>0</td>\n",
       "      <td>0</td>\n",
       "      <td>0</td>\n",
       "      <td>0</td>\n",
       "      <td>0</td>\n",
       "      <td>0</td>\n",
       "      <td>1</td>\n",
       "      <td>0</td>\n",
       "      <td>0</td>\n",
       "    </tr>\n",
       "    <tr>\n",
       "      <th>1</th>\n",
       "      <td>NH</td>\n",
       "      <td>2000</td>\n",
       "      <td>240</td>\n",
       "      <td>3</td>\n",
       "      <td>1</td>\n",
       "      <td>0</td>\n",
       "      <td>65000.0</td>\n",
       "      <td>P I F</td>\n",
       "      <td>32500.0</td>\n",
       "      <td>1</td>\n",
       "      <td>1</td>\n",
       "      <td>0</td>\n",
       "      <td>0</td>\n",
       "      <td>0</td>\n",
       "      <td>0</td>\n",
       "      <td>0</td>\n",
       "      <td>0</td>\n",
       "      <td>0</td>\n",
       "      <td>1</td>\n",
       "      <td>0</td>\n",
       "      <td>0</td>\n",
       "      <td>0</td>\n",
       "      <td>0</td>\n",
       "      <td>0</td>\n",
       "      <td>0</td>\n",
       "      <td>0</td>\n",
       "      <td>0</td>\n",
       "      <td>0</td>\n",
       "      <td>0</td>\n",
       "      <td>0</td>\n",
       "      <td>0</td>\n",
       "      <td>0</td>\n",
       "      <td>0</td>\n",
       "    </tr>\n",
       "    <tr>\n",
       "      <th>2</th>\n",
       "      <td>NY</td>\n",
       "      <td>2000</td>\n",
       "      <td>65</td>\n",
       "      <td>1</td>\n",
       "      <td>1</td>\n",
       "      <td>0</td>\n",
       "      <td>78800.0</td>\n",
       "      <td>CHGOFF</td>\n",
       "      <td>39400.0</td>\n",
       "      <td>0</td>\n",
       "      <td>1</td>\n",
       "      <td>0</td>\n",
       "      <td>0</td>\n",
       "      <td>0</td>\n",
       "      <td>0</td>\n",
       "      <td>0</td>\n",
       "      <td>0</td>\n",
       "      <td>1</td>\n",
       "      <td>0</td>\n",
       "      <td>0</td>\n",
       "      <td>0</td>\n",
       "      <td>0</td>\n",
       "      <td>0</td>\n",
       "      <td>0</td>\n",
       "      <td>0</td>\n",
       "      <td>0</td>\n",
       "      <td>0</td>\n",
       "      <td>0</td>\n",
       "      <td>0</td>\n",
       "      <td>0</td>\n",
       "      <td>0</td>\n",
       "      <td>0</td>\n",
       "      <td>0</td>\n",
       "    </tr>\n",
       "    <tr>\n",
       "      <th>3</th>\n",
       "      <td>ME</td>\n",
       "      <td>2000</td>\n",
       "      <td>84</td>\n",
       "      <td>3</td>\n",
       "      <td>1</td>\n",
       "      <td>0</td>\n",
       "      <td>105000.0</td>\n",
       "      <td>P I F</td>\n",
       "      <td>52500.0</td>\n",
       "      <td>0</td>\n",
       "      <td>1</td>\n",
       "      <td>0</td>\n",
       "      <td>0</td>\n",
       "      <td>0</td>\n",
       "      <td>0</td>\n",
       "      <td>0</td>\n",
       "      <td>0</td>\n",
       "      <td>0</td>\n",
       "      <td>0</td>\n",
       "      <td>1</td>\n",
       "      <td>0</td>\n",
       "      <td>0</td>\n",
       "      <td>0</td>\n",
       "      <td>0</td>\n",
       "      <td>0</td>\n",
       "      <td>0</td>\n",
       "      <td>0</td>\n",
       "      <td>0</td>\n",
       "      <td>0</td>\n",
       "      <td>0</td>\n",
       "      <td>0</td>\n",
       "      <td>0</td>\n",
       "      <td>0</td>\n",
       "    </tr>\n",
       "    <tr>\n",
       "      <th>4</th>\n",
       "      <td>NY</td>\n",
       "      <td>2000</td>\n",
       "      <td>84</td>\n",
       "      <td>8</td>\n",
       "      <td>0</td>\n",
       "      <td>0</td>\n",
       "      <td>25000.0</td>\n",
       "      <td>P I F</td>\n",
       "      <td>12500.0</td>\n",
       "      <td>0</td>\n",
       "      <td>1</td>\n",
       "      <td>0</td>\n",
       "      <td>0</td>\n",
       "      <td>0</td>\n",
       "      <td>0</td>\n",
       "      <td>0</td>\n",
       "      <td>0</td>\n",
       "      <td>0</td>\n",
       "      <td>0</td>\n",
       "      <td>1</td>\n",
       "      <td>0</td>\n",
       "      <td>0</td>\n",
       "      <td>0</td>\n",
       "      <td>0</td>\n",
       "      <td>0</td>\n",
       "      <td>0</td>\n",
       "      <td>0</td>\n",
       "      <td>0</td>\n",
       "      <td>0</td>\n",
       "      <td>0</td>\n",
       "      <td>0</td>\n",
       "      <td>0</td>\n",
       "      <td>0</td>\n",
       "    </tr>\n",
       "    <tr>\n",
       "      <th>...</th>\n",
       "      <td>...</td>\n",
       "      <td>...</td>\n",
       "      <td>...</td>\n",
       "      <td>...</td>\n",
       "      <td>...</td>\n",
       "      <td>...</td>\n",
       "      <td>...</td>\n",
       "      <td>...</td>\n",
       "      <td>...</td>\n",
       "      <td>...</td>\n",
       "      <td>...</td>\n",
       "      <td>...</td>\n",
       "      <td>...</td>\n",
       "      <td>...</td>\n",
       "      <td>...</td>\n",
       "      <td>...</td>\n",
       "      <td>...</td>\n",
       "      <td>...</td>\n",
       "      <td>...</td>\n",
       "      <td>...</td>\n",
       "      <td>...</td>\n",
       "      <td>...</td>\n",
       "      <td>...</td>\n",
       "      <td>...</td>\n",
       "      <td>...</td>\n",
       "      <td>...</td>\n",
       "      <td>...</td>\n",
       "      <td>...</td>\n",
       "      <td>...</td>\n",
       "      <td>...</td>\n",
       "      <td>...</td>\n",
       "      <td>...</td>\n",
       "      <td>...</td>\n",
       "    </tr>\n",
       "    <tr>\n",
       "      <th>335251</th>\n",
       "      <td>AL</td>\n",
       "      <td>2005</td>\n",
       "      <td>84</td>\n",
       "      <td>1</td>\n",
       "      <td>0</td>\n",
       "      <td>0</td>\n",
       "      <td>10000.0</td>\n",
       "      <td>P I F</td>\n",
       "      <td>8500.0</td>\n",
       "      <td>0</td>\n",
       "      <td>1</td>\n",
       "      <td>0</td>\n",
       "      <td>0</td>\n",
       "      <td>0</td>\n",
       "      <td>0</td>\n",
       "      <td>0</td>\n",
       "      <td>0</td>\n",
       "      <td>0</td>\n",
       "      <td>0</td>\n",
       "      <td>0</td>\n",
       "      <td>0</td>\n",
       "      <td>0</td>\n",
       "      <td>0</td>\n",
       "      <td>0</td>\n",
       "      <td>0</td>\n",
       "      <td>0</td>\n",
       "      <td>0</td>\n",
       "      <td>0</td>\n",
       "      <td>0</td>\n",
       "      <td>0</td>\n",
       "      <td>0</td>\n",
       "      <td>1</td>\n",
       "      <td>0</td>\n",
       "    </tr>\n",
       "    <tr>\n",
       "      <th>335252</th>\n",
       "      <td>FL</td>\n",
       "      <td>2005</td>\n",
       "      <td>113</td>\n",
       "      <td>12</td>\n",
       "      <td>0</td>\n",
       "      <td>1</td>\n",
       "      <td>150000.0</td>\n",
       "      <td>CHGOFF</td>\n",
       "      <td>127500.0</td>\n",
       "      <td>0</td>\n",
       "      <td>1</td>\n",
       "      <td>0</td>\n",
       "      <td>1</td>\n",
       "      <td>0</td>\n",
       "      <td>0</td>\n",
       "      <td>0</td>\n",
       "      <td>0</td>\n",
       "      <td>0</td>\n",
       "      <td>0</td>\n",
       "      <td>0</td>\n",
       "      <td>0</td>\n",
       "      <td>0</td>\n",
       "      <td>0</td>\n",
       "      <td>0</td>\n",
       "      <td>0</td>\n",
       "      <td>0</td>\n",
       "      <td>0</td>\n",
       "      <td>0</td>\n",
       "      <td>0</td>\n",
       "      <td>0</td>\n",
       "      <td>1</td>\n",
       "      <td>0</td>\n",
       "      <td>0</td>\n",
       "    </tr>\n",
       "    <tr>\n",
       "      <th>335253</th>\n",
       "      <td>TX</td>\n",
       "      <td>2005</td>\n",
       "      <td>84</td>\n",
       "      <td>10</td>\n",
       "      <td>1</td>\n",
       "      <td>1</td>\n",
       "      <td>100000.0</td>\n",
       "      <td>P I F</td>\n",
       "      <td>85000.0</td>\n",
       "      <td>0</td>\n",
       "      <td>1</td>\n",
       "      <td>0</td>\n",
       "      <td>1</td>\n",
       "      <td>0</td>\n",
       "      <td>0</td>\n",
       "      <td>0</td>\n",
       "      <td>0</td>\n",
       "      <td>0</td>\n",
       "      <td>0</td>\n",
       "      <td>0</td>\n",
       "      <td>0</td>\n",
       "      <td>0</td>\n",
       "      <td>0</td>\n",
       "      <td>0</td>\n",
       "      <td>0</td>\n",
       "      <td>0</td>\n",
       "      <td>0</td>\n",
       "      <td>0</td>\n",
       "      <td>1</td>\n",
       "      <td>0</td>\n",
       "      <td>0</td>\n",
       "      <td>0</td>\n",
       "      <td>0</td>\n",
       "    </tr>\n",
       "    <tr>\n",
       "      <th>335254</th>\n",
       "      <td>IA</td>\n",
       "      <td>2005</td>\n",
       "      <td>64</td>\n",
       "      <td>3</td>\n",
       "      <td>0</td>\n",
       "      <td>0</td>\n",
       "      <td>160000.0</td>\n",
       "      <td>CHGOFF</td>\n",
       "      <td>120000.0</td>\n",
       "      <td>0</td>\n",
       "      <td>1</td>\n",
       "      <td>0</td>\n",
       "      <td>0</td>\n",
       "      <td>0</td>\n",
       "      <td>0</td>\n",
       "      <td>0</td>\n",
       "      <td>0</td>\n",
       "      <td>0</td>\n",
       "      <td>0</td>\n",
       "      <td>1</td>\n",
       "      <td>0</td>\n",
       "      <td>0</td>\n",
       "      <td>0</td>\n",
       "      <td>0</td>\n",
       "      <td>0</td>\n",
       "      <td>0</td>\n",
       "      <td>0</td>\n",
       "      <td>0</td>\n",
       "      <td>0</td>\n",
       "      <td>0</td>\n",
       "      <td>0</td>\n",
       "      <td>0</td>\n",
       "      <td>0</td>\n",
       "    </tr>\n",
       "    <tr>\n",
       "      <th>335255</th>\n",
       "      <td>AL</td>\n",
       "      <td>2001</td>\n",
       "      <td>84</td>\n",
       "      <td>21</td>\n",
       "      <td>1</td>\n",
       "      <td>0</td>\n",
       "      <td>100000.0</td>\n",
       "      <td>P I F</td>\n",
       "      <td>75000.0</td>\n",
       "      <td>0</td>\n",
       "      <td>0</td>\n",
       "      <td>0</td>\n",
       "      <td>0</td>\n",
       "      <td>0</td>\n",
       "      <td>0</td>\n",
       "      <td>0</td>\n",
       "      <td>0</td>\n",
       "      <td>0</td>\n",
       "      <td>0</td>\n",
       "      <td>0</td>\n",
       "      <td>0</td>\n",
       "      <td>0</td>\n",
       "      <td>0</td>\n",
       "      <td>0</td>\n",
       "      <td>0</td>\n",
       "      <td>0</td>\n",
       "      <td>0</td>\n",
       "      <td>0</td>\n",
       "      <td>0</td>\n",
       "      <td>0</td>\n",
       "      <td>0</td>\n",
       "      <td>0</td>\n",
       "      <td>0</td>\n",
       "    </tr>\n",
       "  </tbody>\n",
       "</table>\n",
       "<p>335256 rows × 33 columns</p>\n",
       "</div>"
      ],
      "text/plain": [
       "       State  ApprovalFY  Term  NoEmp  ...  NAICS_71  NAICS_72  NAICS_81 NAICS_92\n",
       "0         NY        2000    84      6  ...         0         1         0        0\n",
       "1         NH        2000   240      3  ...         0         0         0        0\n",
       "2         NY        2000    65      1  ...         0         0         0        0\n",
       "3         ME        2000    84      3  ...         0         0         0        0\n",
       "4         NY        2000    84      8  ...         0         0         0        0\n",
       "...      ...         ...   ...    ...  ...       ...       ...       ...      ...\n",
       "335251    AL        2005    84      1  ...         0         0         1        0\n",
       "335252    FL        2005   113     12  ...         0         1         0        0\n",
       "335253    TX        2005    84     10  ...         0         0         0        0\n",
       "335254    IA        2005    64      3  ...         0         0         0        0\n",
       "335255    AL        2001    84     21  ...         0         0         0        0\n",
       "\n",
       "[335256 rows x 33 columns]"
      ]
     },
     "execution_count": 3,
     "metadata": {
      "tags": []
     },
     "output_type": "execute_result"
    }
   ],
   "source": [
    "# ---- Remove unnamed index and one hot encoding NAICS Code\n",
    "\n",
    "df = df.drop('Unnamed: 0',axis=1)\n",
    "df = pd.get_dummies(df,columns=['NAICS'],drop_first=True)\n",
    "df"
   ]
  },
  {
   "cell_type": "code",
   "execution_count": 0,
   "metadata": {
    "colab": {},
    "colab_type": "code",
    "id": "qjEY6nORxa_K"
   },
   "outputs": [],
   "source": [
    "# ------- Change MIS_Status (0='CHGOFF' and 1='PIF')\n",
    "\n",
    "def change_status(x):\n",
    "  if x['MIS_Status'] == 'P I F':\n",
    "    return 1\n",
    "  else :\n",
    "    return 0\n",
    "\n",
    "df['MIS_Status'] = df.apply(change_status,axis=1)"
   ]
  },
  {
   "cell_type": "markdown",
   "metadata": {
    "colab_type": "text",
    "id": "dn7gYInKvz9S"
   },
   "source": [
    "# Conditional Selection Country Based on EDA\n",
    "\n",
    "#### From Red Zone (~1% CHGOFF) :\n",
    "1. ND (North Dakota)\n",
    "2. WY (Wyoming)\n",
    "\n",
    "#### From Yellow Zone (~15% CHGOFF) :\n",
    "1. AZ (Arizona)\n",
    "2. KS (Kansas)\n",
    "\n",
    "#### From Dark Green Zone (~21% CHGOFF) :\n",
    "1. GA (Georgia)\n",
    "2. FL (Florida)\n",
    "\n"
   ]
  },
  {
   "cell_type": "code",
   "execution_count": 0,
   "metadata": {
    "colab": {},
    "colab_type": "code",
    "id": "D7hdbH6SvyAZ"
   },
   "outputs": [],
   "source": [
    "# -------- Conditional Selection by State\n",
    "\n",
    "df_state = df[(df['State'] == 'AZ') | (df['State'] == 'KS') | #Yellow Zone\n",
    "              (df['State'] == 'ND') | (df['State'] == 'WY') | #Red Zone\n",
    "              (df['State'] == 'GA') | (df['State'] == 'FL')]  #Darkgreen Zone"
   ]
  },
  {
   "cell_type": "code",
   "execution_count": 0,
   "metadata": {
    "colab": {
     "base_uri": "https://localhost:8080/",
     "height": 70
    },
    "colab_type": "code",
    "id": "UBBGjzOMx5iE",
    "outputId": "c2cc5183-6b3a-475c-d1d8-ffd6c94c87c3"
   },
   "outputs": [
    {
     "data": {
      "text/plain": [
       "1    0.812229\n",
       "0    0.187771\n",
       "Name: MIS_Status, dtype: float64"
      ]
     },
     "execution_count": 6,
     "metadata": {
      "tags": []
     },
     "output_type": "execute_result"
    }
   ],
   "source": [
    "# -------- Check value of MIS_Status\n",
    "df_state['MIS_Status'].value_counts(normalize=True)"
   ]
  },
  {
   "cell_type": "markdown",
   "metadata": {
    "colab_type": "text",
    "id": "MJufV47ByN2L"
   },
   "source": [
    "# Setting Features and Target, Train Test Split, and SMOTE for Train Data\n",
    "\n",
    "At this section I will devide my training data which is Original Train Data and SMOTE Train Data. This sets will be used for all machine learning process in this notebook."
   ]
  },
  {
   "cell_type": "code",
   "execution_count": 0,
   "metadata": {
    "colab": {},
    "colab_type": "code",
    "id": "fwLQL_6LyMHB"
   },
   "outputs": [],
   "source": [
    "# ------- Setting Features and Target\n",
    "X = df_state.drop(['State','ApprovalFY','MIS_Status'],axis=1)\n",
    "y = df_state['MIS_Status']\n",
    "\n",
    "# ------- Train Test Split\n",
    "X_train, X_test, y_train, y_test = train_test_split(X, y, test_size=0.2, random_state=101)\n",
    "\n",
    "# ------- SMOTE (get X_train_smote, y_train_smote)\n",
    "from imblearn.over_sampling import SMOTE\n",
    "sm = SMOTE(random_state=101)\n",
    "X_train_smote, y_train_smote = sm.fit_sample(X_train,y_train)\n",
    "X_train_smote = pd.DataFrame(X_train_smote, columns=X_train.columns)"
   ]
  },
  {
   "cell_type": "markdown",
   "metadata": {
    "colab_type": "text",
    "id": "Y0GNrSOOylwM"
   },
   "source": [
    "# F1 Score and Accuracy from All Algorithms\n",
    "\n",
    "**We will use several algorithms for this binary classification, which are :**\n",
    "1. Logistic Regression\n",
    "2. Decision Tree Classifier\n",
    "3. Random Forest Classifier\n",
    "4. LGBM Classifier\n",
    "5. KNN\n",
    "\n",
    "**Objective :** Find the best F1_Score and Accuracy Score with cross_val_method (for normal data) and F1&Accuracy metrics (for SMOTE)"
   ]
  },
  {
   "cell_type": "code",
   "execution_count": 0,
   "metadata": {
    "colab": {
     "base_uri": "https://localhost:8080/",
     "height": 204
    },
    "colab_type": "code",
    "id": "YEKIMA7ryqj9",
    "outputId": "fde586ea-0989-435d-86c0-2761764c8bd7"
   },
   "outputs": [
    {
     "data": {
      "text/html": [
       "<div>\n",
       "<style scoped>\n",
       "    .dataframe tbody tr th:only-of-type {\n",
       "        vertical-align: middle;\n",
       "    }\n",
       "\n",
       "    .dataframe tbody tr th {\n",
       "        vertical-align: top;\n",
       "    }\n",
       "\n",
       "    .dataframe thead th {\n",
       "        text-align: right;\n",
       "    }\n",
       "</style>\n",
       "<table border=\"1\" class=\"dataframe\">\n",
       "  <thead>\n",
       "    <tr style=\"text-align: right;\">\n",
       "      <th></th>\n",
       "      <th>Algorithm</th>\n",
       "      <th>F1 Score</th>\n",
       "      <th>Acc Score</th>\n",
       "    </tr>\n",
       "  </thead>\n",
       "  <tbody>\n",
       "    <tr>\n",
       "      <th>0</th>\n",
       "      <td>LogisticRegression</td>\n",
       "      <td>0.893901</td>\n",
       "      <td>0.808660</td>\n",
       "    </tr>\n",
       "    <tr>\n",
       "      <th>1</th>\n",
       "      <td>DecisionTreeClassifier</td>\n",
       "      <td>0.938107</td>\n",
       "      <td>0.898911</td>\n",
       "    </tr>\n",
       "    <tr>\n",
       "      <th>2</th>\n",
       "      <td>RandomForestClassifier</td>\n",
       "      <td>0.944864</td>\n",
       "      <td>0.910091</td>\n",
       "    </tr>\n",
       "    <tr>\n",
       "      <th>3</th>\n",
       "      <td>LGBMClassifier</td>\n",
       "      <td>0.959462</td>\n",
       "      <td>0.933710</td>\n",
       "    </tr>\n",
       "    <tr>\n",
       "      <th>4</th>\n",
       "      <td>KNeighborsClassifier</td>\n",
       "      <td>0.900180</td>\n",
       "      <td>0.832385</td>\n",
       "    </tr>\n",
       "  </tbody>\n",
       "</table>\n",
       "</div>"
      ],
      "text/plain": [
       "                Algorithm  F1 Score  Acc Score\n",
       "0      LogisticRegression  0.893901   0.808660\n",
       "1  DecisionTreeClassifier  0.938107   0.898911\n",
       "2  RandomForestClassifier  0.944864   0.910091\n",
       "3          LGBMClassifier  0.959462   0.933710\n",
       "4    KNeighborsClassifier  0.900180   0.832385"
      ]
     },
     "execution_count": 8,
     "metadata": {
      "tags": []
     },
     "output_type": "execute_result"
    }
   ],
   "source": [
    "# ---------- F1 Score and Accuracy from Normal Data (without SMOTE)\n",
    "\n",
    "algorithm = [LogisticRegression, DecisionTreeClassifier, RandomForestClassifier, LGBMClassifier, KNeighborsClassifier]\n",
    "algo_name = ['LogisticRegression','DecisionTreeClassifier','RandomForestClassifier','LGBMClassifier','KNeighborsClassifier']\n",
    "algo_F1Score = []\n",
    "algo_AccScore = []\n",
    "\n",
    "for item in algorithm:\n",
    "  model = item()\n",
    "  F1Scores = cross_val_score(model,X,y,cv=3,scoring='f1').mean()\n",
    "  algo_F1Score.append(F1Scores)\n",
    "  AccScore = cross_val_score(model,X,y,cv=3,scoring='accuracy').mean()\n",
    "  algo_AccScore.append(AccScore)\n",
    "\n",
    "df_algo = pd.DataFrame({\n",
    "    'Algorithm' : algo_name,\n",
    "    'F1 Score' : algo_F1Score,\n",
    "    'Acc Score' : algo_AccScore\n",
    "})\n",
    "\n",
    "df_algo"
   ]
  },
  {
   "cell_type": "code",
   "execution_count": 0,
   "metadata": {
    "colab": {
     "base_uri": "https://localhost:8080/",
     "height": 585
    },
    "colab_type": "code",
    "id": "Xp_Z0LhXy0hH",
    "outputId": "b079bcab-8169-4a90-d677-7b194949273e"
   },
   "outputs": [
    {
     "data": {
      "image/png": "[encoded data removed]",
      "text/plain": [
       "<Figure size 1008x576 with 2 Axes>"
      ]
     },
     "metadata": {
      "needs_background": "light",
      "tags": []
     },
     "output_type": "display_data"
    }
   ],
   "source": [
    "# ---------- Plot F1 Score and Accuracy score from Normal Data\n",
    "\n",
    "plt.figure(figsize=(14,8))\n",
    "\n",
    "plt.subplot(2,1,1)\n",
    "sns.barplot(data=df_algo,y='Algorithm',x='F1 Score')\n",
    "\n",
    "plt.subplot(2,1,2)\n",
    "sns.barplot(data=df_algo,y='Algorithm',x='Acc Score')\n",
    "\n",
    "plt.tight_layout()"
   ]
  },
  {
   "cell_type": "code",
   "execution_count": 0,
   "metadata": {
    "colab": {
     "base_uri": "https://localhost:8080/",
     "height": 204
    },
    "colab_type": "code",
    "id": "aMfPesMDzClv",
    "outputId": "e905dcb6-fe2b-4740-aa2a-2bdc95cb1ddd"
   },
   "outputs": [
    {
     "data": {
      "text/html": [
       "<div>\n",
       "<style scoped>\n",
       "    .dataframe tbody tr th:only-of-type {\n",
       "        vertical-align: middle;\n",
       "    }\n",
       "\n",
       "    .dataframe tbody tr th {\n",
       "        vertical-align: top;\n",
       "    }\n",
       "\n",
       "    .dataframe thead th {\n",
       "        text-align: right;\n",
       "    }\n",
       "</style>\n",
       "<table border=\"1\" class=\"dataframe\">\n",
       "  <thead>\n",
       "    <tr style=\"text-align: right;\">\n",
       "      <th></th>\n",
       "      <th>Algorithm</th>\n",
       "      <th>F1 Score SMOTE</th>\n",
       "      <th>Acc Score SMOTE</th>\n",
       "    </tr>\n",
       "  </thead>\n",
       "  <tbody>\n",
       "    <tr>\n",
       "      <th>0</th>\n",
       "      <td>LogisticRegression</td>\n",
       "      <td>0.882326</td>\n",
       "      <td>0.795040</td>\n",
       "    </tr>\n",
       "    <tr>\n",
       "      <th>1</th>\n",
       "      <td>DecisionTreeClassifier</td>\n",
       "      <td>0.940594</td>\n",
       "      <td>0.903950</td>\n",
       "    </tr>\n",
       "    <tr>\n",
       "      <th>2</th>\n",
       "      <td>RandomForestClassifier</td>\n",
       "      <td>0.949722</td>\n",
       "      <td>0.918252</td>\n",
       "    </tr>\n",
       "    <tr>\n",
       "      <th>3</th>\n",
       "      <td>LGBMClassifier</td>\n",
       "      <td>0.961532</td>\n",
       "      <td>0.937803</td>\n",
       "    </tr>\n",
       "    <tr>\n",
       "      <th>4</th>\n",
       "      <td>KNeighborsClassifier</td>\n",
       "      <td>0.859157</td>\n",
       "      <td>0.785068</td>\n",
       "    </tr>\n",
       "  </tbody>\n",
       "</table>\n",
       "</div>"
      ],
      "text/plain": [
       "                Algorithm  F1 Score SMOTE  Acc Score SMOTE\n",
       "0      LogisticRegression        0.882326         0.795040\n",
       "1  DecisionTreeClassifier        0.940594         0.903950\n",
       "2  RandomForestClassifier        0.949722         0.918252\n",
       "3          LGBMClassifier        0.961532         0.937803\n",
       "4    KNeighborsClassifier        0.859157         0.785068"
      ]
     },
     "execution_count": 10,
     "metadata": {
      "tags": []
     },
     "output_type": "execute_result"
    }
   ],
   "source": [
    "# ---------- F1 Score and Accuracy from SMOTE Data Train\n",
    "\n",
    "algo_F1Smote = []\n",
    "algo_AccSmote = []\n",
    "\n",
    "for item in algorithm:\n",
    "    model = item()\n",
    "    model.fit(X_train_smote,y_train_smote)\n",
    "    predictions = model.predict(X_test)\n",
    "    accur = accuracy_score(y_test,predictions)\n",
    "    algo_AccSmote.append(accur)\n",
    "    f1 = f1_score(y_test,predictions)\n",
    "    algo_F1Smote.append(f1)\n",
    "\n",
    "df_algo_smote = pd.DataFrame({\n",
    "    'Algorithm' : algo_name,\n",
    "    'F1 Score SMOTE' : algo_F1Smote,\n",
    "    'Acc Score SMOTE' : algo_AccSmote\n",
    "})\n",
    "\n",
    "df_algo_smote"
   ]
  },
  {
   "cell_type": "code",
   "execution_count": 0,
   "metadata": {
    "colab": {
     "base_uri": "https://localhost:8080/",
     "height": 585
    },
    "colab_type": "code",
    "id": "9lLIHbLvzFd1",
    "outputId": "464d7eb4-9a3b-4eb1-d695-64fb07b7c208"
   },
   "outputs": [
    {
     "data": {
      "image/png": "[encoded data removed]",
      "text/plain": [
       "<Figure size 1008x576 with 2 Axes>"
      ]
     },
     "metadata": {
      "needs_background": "light",
      "tags": []
     },
     "output_type": "display_data"
    }
   ],
   "source": [
    "# ---------- Plot F1 Score and Accuracy score from SMOTE Data Train\n",
    "\n",
    "plt.figure(figsize=(14,8))\n",
    "\n",
    "plt.subplot(2,1,1)\n",
    "sns.barplot(data=df_algo_smote,y='Algorithm',x='F1 Score SMOTE')\n",
    "\n",
    "plt.subplot(2,1,2)\n",
    "sns.barplot(data=df_algo_smote,y='Algorithm',x='Acc Score SMOTE')\n",
    "\n",
    "plt.tight_layout()"
   ]
  },
  {
   "cell_type": "markdown",
   "metadata": {
    "colab_type": "text",
    "id": "nDSutD7MzI64"
   },
   "source": [
    "> From all testing to each algorithm F1 Score and Accuracy Score give better result on Decision Tree, Random Forest, and LGBM. The score for both of normal data and smote data give a very close result. So, I need to check classification each of algorithms (Top 3)."
   ]
  },
  {
   "cell_type": "markdown",
   "metadata": {
    "colab_type": "text",
    "id": "4Fb__CSF0KIX"
   },
   "source": [
    "# Classification Report of Normal Data and SMOTE from Top 3 Algorithms"
   ]
  },
  {
   "cell_type": "markdown",
   "metadata": {
    "colab_type": "text",
    "id": "JouTY7c20M8G"
   },
   "source": [
    "#### 1.A.  Random Forest with Normal Data"
   ]
  },
  {
   "cell_type": "code",
   "execution_count": 0,
   "metadata": {
    "colab": {
     "base_uri": "https://localhost:8080/",
     "height": 187
    },
    "colab_type": "code",
    "id": "IHgECVFQ0MDP",
    "outputId": "9483bfdd-b9e0-4f63-9e04-1bafc4de2c59"
   },
   "outputs": [
    {
     "name": "stdout",
     "output_type": "stream",
     "text": [
      "              precision    recall  f1-score   support\n",
      "\n",
      "           0       0.84      0.74      0.79      1468\n",
      "           1       0.94      0.97      0.95      6153\n",
      "\n",
      "    accuracy                           0.92      7621\n",
      "   macro avg       0.89      0.85      0.87      7621\n",
      "weighted avg       0.92      0.92      0.92      7621\n",
      "\n",
      "tn :  1087  fp :  381  fn :  213  tp :  5940\n"
     ]
    }
   ],
   "source": [
    "# Modelling and fitting\n",
    "rf = RandomForestClassifier(random_state=101)\n",
    "rf.fit(X_train,y_train)\n",
    "\n",
    "# predicting\n",
    "prediction_rf = rf.predict(X_test)\n",
    "\n",
    "# Evaluation\n",
    "print(classification_report(y_test,prediction_rf))\n",
    "tn, fp, fn, tp = confusion_matrix(y_test,prediction_rf).ravel()\n",
    "print('tn : ',tn, ' fp : ',fp,' fn : ' ,fn,' tp : ' ,tp)"
   ]
  },
  {
   "cell_type": "markdown",
   "metadata": {
    "colab_type": "text",
    "id": "q8425ILL0UBk"
   },
   "source": [
    "#### 1.B. Random Forest with SMOTE"
   ]
  },
  {
   "cell_type": "code",
   "execution_count": 0,
   "metadata": {
    "colab": {
     "base_uri": "https://localhost:8080/",
     "height": 187
    },
    "colab_type": "code",
    "id": "K0_4G2rS0ShV",
    "outputId": "d8029d02-a766-4940-a5ce-0292938445d9"
   },
   "outputs": [
    {
     "name": "stdout",
     "output_type": "stream",
     "text": [
      "              precision    recall  f1-score   support\n",
      "\n",
      "           0       0.80      0.75      0.78      1468\n",
      "           1       0.94      0.95      0.95      6153\n",
      "\n",
      "    accuracy                           0.92      7621\n",
      "   macro avg       0.87      0.85      0.86      7621\n",
      "weighted avg       0.91      0.92      0.91      7621\n",
      "\n",
      "tn :  1106  fp :  362  fn :  279  tp :  5874\n"
     ]
    }
   ],
   "source": [
    "# Modelling and fitting\n",
    "rf_smote = RandomForestClassifier(random_state=101)\n",
    "rf_smote.fit(X_train_smote,y_train_smote)\n",
    "\n",
    "# predicting\n",
    "prediction_rf_smote = rf_smote.predict(X_test)\n",
    "\n",
    "# Evaluation\n",
    "print(classification_report(y_test,prediction_rf_smote))\n",
    "tn, fp, fn, tp = confusion_matrix(y_test,prediction_rf_smote).ravel()\n",
    "print('tn : ',tn, ' fp : ',fp,' fn : ' ,fn,' tp : ' ,tp)"
   ]
  },
  {
   "cell_type": "markdown",
   "metadata": {
    "colab_type": "text",
    "id": "M5db-aZV0eLo"
   },
   "source": [
    "#### 2.A. LGBM with Normal Data"
   ]
  },
  {
   "cell_type": "code",
   "execution_count": 0,
   "metadata": {
    "colab": {
     "base_uri": "https://localhost:8080/",
     "height": 194
    },
    "colab_type": "code",
    "id": "ow0U-W2F0dDD",
    "outputId": "3cd81dc1-385a-4bc4-a798-2071e5380e9e"
   },
   "outputs": [
    {
     "name": "stdout",
     "output_type": "stream",
     "text": [
      "              precision    recall  f1-score   support\n",
      "\n",
      "           0       0.86      0.82      0.84      1468\n",
      "           1       0.96      0.97      0.96      6153\n",
      "\n",
      "    accuracy                           0.94      7621\n",
      "   macro avg       0.91      0.90      0.90      7621\n",
      "weighted avg       0.94      0.94      0.94      7621\n",
      "\n",
      "tn :  1208  fp :  260  fn :  199  tp :  5954\n"
     ]
    }
   ],
   "source": [
    "# Modelling and fitting\n",
    "lgbm = LGBMClassifier(random_state=101)\n",
    "lgbm.fit(X_train,y_train)\n",
    "\n",
    "# predicting\n",
    "prediction_lgbm = lgbm.predict(X_test)\n",
    "\n",
    "# Evaluation\n",
    "print(classification_report(y_test,prediction_lgbm))\n",
    "tn, fp, fn, tp = confusion_matrix(y_test,prediction_lgbm).ravel()\n",
    "print('tn : ',tn, ' fp : ',fp,' fn : ' ,fn,' tp : ' ,tp)"
   ]
  },
  {
   "cell_type": "markdown",
   "metadata": {
    "colab_type": "text",
    "id": "OR3u1yoA0vy_"
   },
   "source": [
    "#### 2.B LGBM with SMOTE"
   ]
  },
  {
   "cell_type": "code",
   "execution_count": 0,
   "metadata": {
    "colab": {
     "base_uri": "https://localhost:8080/",
     "height": 187
    },
    "colab_type": "code",
    "id": "Uwlabv8y0jaI",
    "outputId": "dadc8e55-7e4c-4431-af6d-dcd2056bc160"
   },
   "outputs": [
    {
     "name": "stdout",
     "output_type": "stream",
     "text": [
      "              precision    recall  f1-score   support\n",
      "\n",
      "           0       0.84      0.83      0.84      1468\n",
      "           1       0.96      0.96      0.96      6153\n",
      "\n",
      "    accuracy                           0.94      7621\n",
      "   macro avg       0.90      0.90      0.90      7621\n",
      "weighted avg       0.94      0.94      0.94      7621\n",
      "\n",
      "tn :  1223  fp :  245  fn :  229  tp :  5924\n"
     ]
    }
   ],
   "source": [
    "# Modelling and fitting\n",
    "lgbm_smote = LGBMClassifier(random_state=101)\n",
    "lgbm_smote.fit(X_train_smote,y_train_smote)\n",
    "\n",
    "# predicting\n",
    "prediction_lgbm_smote = lgbm_smote.predict(X_test)\n",
    "\n",
    "# Evaluation\n",
    "print(classification_report(y_test,prediction_lgbm_smote))\n",
    "tn, fp, fn, tp = confusion_matrix(y_test,prediction_lgbm_smote).ravel()\n",
    "print('tn : ',tn, ' fp : ',fp,' fn : ' ,fn,' tp : ' ,tp)"
   ]
  },
  {
   "cell_type": "markdown",
   "metadata": {
    "colab_type": "text",
    "id": "8sEp7eHi09Us"
   },
   "source": [
    "#### 3.A. Decision Tree with Normal Data"
   ]
  },
  {
   "cell_type": "code",
   "execution_count": 0,
   "metadata": {
    "colab": {
     "base_uri": "https://localhost:8080/",
     "height": 187
    },
    "colab_type": "code",
    "id": "tuUQKUlV0nQT",
    "outputId": "3c444595-f342-42fb-c16c-4379f40e4a5f"
   },
   "outputs": [
    {
     "name": "stdout",
     "output_type": "stream",
     "text": [
      "              precision    recall  f1-score   support\n",
      "\n",
      "           0       0.76      0.75      0.76      1468\n",
      "           1       0.94      0.94      0.94      6153\n",
      "\n",
      "    accuracy                           0.91      7621\n",
      "   macro avg       0.85      0.85      0.85      7621\n",
      "weighted avg       0.91      0.91      0.91      7621\n",
      "\n",
      "tn :  1102  fp :  366  fn :  343  tp :  5810\n"
     ]
    }
   ],
   "source": [
    "# Modelling and fitting\n",
    "tree = DecisionTreeClassifier(random_state=101)\n",
    "tree.fit(X_train,y_train)\n",
    "\n",
    "# predicting\n",
    "prediction_tree = tree.predict(X_test)\n",
    "\n",
    "# Evaluation\n",
    "print(classification_report(y_test,prediction_tree))\n",
    "tn, fp, fn, tp = confusion_matrix(y_test,prediction_tree).ravel()\n",
    "print('tn : ',tn, ' fp : ',fp,' fn : ' ,fn,' tp : ' ,tp)"
   ]
  },
  {
   "cell_type": "markdown",
   "metadata": {
    "colab_type": "text",
    "id": "Y3Bli6vS1BNI"
   },
   "source": [
    "#### 3.B. Decision Tree with SMOTE"
   ]
  },
  {
   "cell_type": "code",
   "execution_count": 0,
   "metadata": {
    "colab": {
     "base_uri": "https://localhost:8080/",
     "height": 187
    },
    "colab_type": "code",
    "id": "epXdn0zz1AYu",
    "outputId": "af9321d8-6d85-4564-98c0-857e26e34ca1"
   },
   "outputs": [
    {
     "name": "stdout",
     "output_type": "stream",
     "text": [
      "              precision    recall  f1-score   support\n",
      "\n",
      "           0       0.75      0.74      0.74      1468\n",
      "           1       0.94      0.94      0.94      6153\n",
      "\n",
      "    accuracy                           0.90      7621\n",
      "   macro avg       0.85      0.84      0.84      7621\n",
      "weighted avg       0.90      0.90      0.90      7621\n",
      "\n",
      "tn :  1082  fp :  386  fn :  355  tp :  5798\n"
     ]
    }
   ],
   "source": [
    "# Modelling and fitting\n",
    "tree_smote = DecisionTreeClassifier(random_state=101)\n",
    "tree_smote.fit(X_train_smote,y_train_smote)\n",
    "\n",
    "# predicting\n",
    "prediction_tree_smote = tree_smote.predict(X_test)\n",
    "\n",
    "# Evaluation\n",
    "print(classification_report(y_test,prediction_tree_smote))\n",
    "tn, fp, fn, tp = confusion_matrix(y_test,prediction_tree_smote).ravel()\n",
    "print('tn : ',tn, ' fp : ',fp,' fn : ' ,fn,' tp : ' ,tp)"
   ]
  },
  {
   "cell_type": "markdown",
   "metadata": {
    "colab_type": "text",
    "id": "sVJ6VwIS1RWr"
   },
   "source": [
    "---------------------\n",
    "\n",
    "> **From all classification report** I could say that the best data for that three algorithms is SMOTE Data. Because it gives better result on recall. (It's more important to avoid the condition when the status actually charge off and we predict as PIF). If we chose precission, we will avoid the condition that our model predict PIF as Charge off. So, recall is better than precission in this case.\n",
    "\n",
    "---------------------"
   ]
  },
  {
   "cell_type": "markdown",
   "metadata": {
    "colab_type": "text",
    "id": "jz4sC0ti1Wbu"
   },
   "source": [
    "# Tuning Hyperparameter for Selected Models\n",
    "\n",
    "Our selected models which are :\n",
    "1. Decision Tree\n",
    "2. LGBM\n",
    "3. Random Forest"
   ]
  },
  {
   "cell_type": "markdown",
   "metadata": {
    "colab_type": "text",
    "id": "f48N3BUm1bFh"
   },
   "source": [
    "### 1. Decision Tree"
   ]
  },
  {
   "cell_type": "code",
   "execution_count": 0,
   "metadata": {
    "colab": {},
    "colab_type": "code",
    "id": "xNdi8HCw1Jb4"
   },
   "outputs": [],
   "source": [
    "model_1 = DecisionTreeClassifier(random_state=101)\n",
    "\n",
    "# Hyperparameter for decision tree\n",
    "param_model_1 = {\n",
    "    'max_depth' : np.arange(2,12,2), \n",
    "    'min_samples_split' : [i for i in range(3,22,2)], \n",
    "    'min_samples_leaf' : [i for i in range(2,11)],\n",
    "}\n",
    "\n",
    "# Grid Search CV\n",
    "### model 1a from f1 score\n",
    "GSCV_model_1a = GridSearchCV(estimator=model_1,\n",
    "                     param_grid=param_model_1\n",
    "                     ,scoring='f1',cv=3)\n",
    "### model 1b from accuracy\n",
    "GSCV_model_1b = GridSearchCV(estimator=model_1,\n",
    "                     param_grid=param_model_1\n",
    "                     ,scoring='accuracy',cv=3)"
   ]
  },
  {
   "cell_type": "code",
   "execution_count": 0,
   "metadata": {
    "colab": {
     "base_uri": "https://localhost:8080/",
     "height": 255
    },
    "colab_type": "code",
    "id": "8HLwYEoj11PB",
    "outputId": "e2d7b8e7-5963-4f21-8474-e63b69e7ef9c"
   },
   "outputs": [
    {
     "name": "stdout",
     "output_type": "stream",
     "text": [
      "=============== CLASSIFICATION REPORT SCORING FROM F1 SCORE ===============\n",
      "              precision    recall  f1-score   support\n",
      "\n",
      "           0       0.68      0.88      0.77      1468\n",
      "           1       0.97      0.90      0.93      6153\n",
      "\n",
      "    accuracy                           0.90      7621\n",
      "   macro avg       0.82      0.89      0.85      7621\n",
      "weighted avg       0.91      0.90      0.90      7621\n",
      "\n",
      "tn :  1294  fp :  174  fn :  615  tp :  5538\n",
      "\n",
      "=============== BEST PARAMETERS SCORING FROM F1 SCORE ===============\n",
      "{'max_depth': 10, 'min_samples_leaf': 2, 'min_samples_split': 5}\n"
     ]
    }
   ],
   "source": [
    "# Fitting Model 1a\n",
    "GSCV_model_1a.fit(X_train_smote,y_train_smote)\n",
    "prediction_1a = GSCV_model_1a.predict(X_test)\n",
    "\n",
    "# Evaluation 1a\n",
    "print('=============== CLASSIFICATION REPORT SCORING FROM F1 SCORE ===============')\n",
    "print(classification_report(y_test,prediction_1a))\n",
    "tn, fp, fn, tp = confusion_matrix(y_test,prediction_1a).ravel()\n",
    "print('tn : ',tn, ' fp : ',fp,' fn : ' ,fn,' tp : ' ,tp)\n",
    "print()\n",
    "print('=============== BEST PARAMETERS SCORING FROM F1 SCORE ===============')\n",
    "print(GSCV_model_1a.best_params_)"
   ]
  },
  {
   "cell_type": "code",
   "execution_count": 0,
   "metadata": {
    "colab": {
     "base_uri": "https://localhost:8080/",
     "height": 255
    },
    "colab_type": "code",
    "id": "BFHCPsMI1j94",
    "outputId": "7370b291-b2e5-4a5a-aa3e-85c98626396a"
   },
   "outputs": [
    {
     "name": "stdout",
     "output_type": "stream",
     "text": [
      "=============== CLASSIFICATION REPORT SCORING FROM ACCURACY SCORE ===============\n",
      "              precision    recall  f1-score   support\n",
      "\n",
      "           0       0.68      0.88      0.77      1468\n",
      "           1       0.97      0.90      0.93      6153\n",
      "\n",
      "    accuracy                           0.90      7621\n",
      "   macro avg       0.82      0.89      0.85      7621\n",
      "weighted avg       0.91      0.90      0.90      7621\n",
      "\n",
      "tn :  1294  fp :  174  fn :  615  tp :  5538\n",
      "\n",
      "=============== BEST PARAMETERS SCORING FROM ACCURACY SCORE ===============\n",
      "{'max_depth': 10, 'min_samples_leaf': 2, 'min_samples_split': 5}\n"
     ]
    }
   ],
   "source": [
    "# Fitting Model 1b\n",
    "GSCV_model_1b.fit(X_train_smote,y_train_smote)\n",
    "prediction_1b = GSCV_model_1b.predict(X_test)\n",
    "\n",
    "# Evaluation 1b\n",
    "print('=============== CLASSIFICATION REPORT SCORING FROM ACCURACY SCORE ===============')\n",
    "print(classification_report(y_test,prediction_1b))\n",
    "tn, fp, fn, tp = confusion_matrix(y_test,prediction_1b).ravel()\n",
    "print('tn : ',tn, ' fp : ',fp,' fn : ' ,fn,' tp : ' ,tp)\n",
    "print()\n",
    "print('=============== BEST PARAMETERS SCORING FROM ACCURACY SCORE ===============')\n",
    "print(GSCV_model_1b.best_params_)"
   ]
  },
  {
   "cell_type": "markdown",
   "metadata": {
    "colab_type": "text",
    "id": "vUcJb5MvQijI"
   },
   "source": [
    "### 2. Light GBM Classifier"
   ]
  },
  {
   "cell_type": "code",
   "execution_count": 0,
   "metadata": {
    "colab": {},
    "colab_type": "code",
    "id": "tbuM_rZMQiEM"
   },
   "outputs": [],
   "source": [
    "model_2 = LGBMClassifier(random_state=101)\n",
    "\n",
    "# Hyperparameter for Light GBM Classifier\n",
    "param_model_2 = {\n",
    "    'max_depth' : [-1,4,5,7],\n",
    "    'num_leaves' : [10,27,31,70],\n",
    "    'min_data_in_leaf' : [20,60,100,200],\n",
    "    'learning_rate' : [0.001,0.01],\n",
    "    'num_iterations' :[200]\n",
    "}\n",
    "\n",
    "# Grid Search CV\n",
    "### model 2a from f1 score\n",
    "GSCV_model_2a = GridSearchCV(estimator=model_2,\n",
    "                     param_grid=param_model_2\n",
    "                     ,scoring='f1',cv=3)\n",
    "### model 1b from accuracy\n",
    "GSCV_model_2b = GridSearchCV(estimator=model_2,\n",
    "                     param_grid=param_model_2\n",
    "                     ,scoring='accuracy',cv=3)"
   ]
  },
  {
   "cell_type": "code",
   "execution_count": 0,
   "metadata": {
    "colab": {
     "base_uri": "https://localhost:8080/",
     "height": 255
    },
    "colab_type": "code",
    "id": "gzNoqExiRHB7",
    "outputId": "eec35431-e196-4e74-a175-2abf6ab006cf"
   },
   "outputs": [
    {
     "name": "stdout",
     "output_type": "stream",
     "text": [
      "=============== CLASSIFICATION REPORT SCORING FROM F1 SCORE ===============\n",
      "              precision    recall  f1-score   support\n",
      "\n",
      "           0       0.78      0.87      0.83      1468\n",
      "           1       0.97      0.94      0.96      6153\n",
      "\n",
      "    accuracy                           0.93      7621\n",
      "   macro avg       0.88      0.91      0.89      7621\n",
      "weighted avg       0.93      0.93      0.93      7621\n",
      "\n",
      "tn :  1283  fp :  185  fn :  355  tp :  5798\n",
      "\n",
      "=============== BEST PARAMETERS SCORING FROM F1 SCORE ===============\n",
      "{'learning_rate': 0.01, 'max_depth': -1, 'min_data_in_leaf': 60, 'num_iterations': 200, 'num_leaves': 70}\n"
     ]
    }
   ],
   "source": [
    "# Fitting Model 2a\n",
    "GSCV_model_2a.fit(X_train_smote,y_train_smote)\n",
    "prediction_2a = GSCV_model_2a.predict(X_test)\n",
    "\n",
    "# Evaluation 2a\n",
    "print('=============== CLASSIFICATION REPORT SCORING FROM F1 SCORE ===============')\n",
    "print(classification_report(y_test,prediction_2a))\n",
    "tn, fp, fn, tp = confusion_matrix(y_test,prediction_2a).ravel()\n",
    "print('tn : ',tn, ' fp : ',fp,' fn : ' ,fn,' tp : ' ,tp)\n",
    "print()\n",
    "print('=============== BEST PARAMETERS SCORING FROM F1 SCORE ===============')\n",
    "print(GSCV_model_2a.best_params_)"
   ]
  },
  {
   "cell_type": "code",
   "execution_count": 0,
   "metadata": {
    "colab": {
     "base_uri": "https://localhost:8080/",
     "height": 255
    },
    "colab_type": "code",
    "id": "ORjJz8DNTsCG",
    "outputId": "d060dce9-b613-4418-dcba-ccc3e05f24fc"
   },
   "outputs": [
    {
     "name": "stdout",
     "output_type": "stream",
     "text": [
      "=============== CLASSIFICATION REPORT SCORING FROM F1 SCORE ===============\n",
      "              precision    recall  f1-score   support\n",
      "\n",
      "           0       0.78      0.87      0.83      1468\n",
      "           1       0.97      0.94      0.96      6153\n",
      "\n",
      "    accuracy                           0.93      7621\n",
      "   macro avg       0.88      0.91      0.89      7621\n",
      "weighted avg       0.93      0.93      0.93      7621\n",
      "\n",
      "tn :  1283  fp :  185  fn :  355  tp :  5798\n",
      "\n",
      "=============== BEST PARAMETERS SCORING FROM F1 SCORE ===============\n",
      "{'learning_rate': 0.01, 'max_depth': -1, 'min_data_in_leaf': 60, 'num_iterations': 200, 'num_leaves': 70}\n"
     ]
    }
   ],
   "source": [
    "# Fitting Model 2a\n",
    "GSCV_model_2b.fit(X_train_smote,y_train_smote)\n",
    "prediction_2b = GSCV_model_2b.predict(X_test)\n",
    "\n",
    "# Evaluation 2a\n",
    "print('=============== CLASSIFICATION REPORT SCORING FROM F1 SCORE ===============')\n",
    "print(classification_report(y_test,prediction_2a))\n",
    "tn, fp, fn, tp = confusion_matrix(y_test,prediction_2a).ravel()\n",
    "print('tn : ',tn, ' fp : ',fp,' fn : ' ,fn,' tp : ' ,tp)\n",
    "print()\n",
    "print('=============== BEST PARAMETERS SCORING FROM F1 SCORE ===============')\n",
    "print(GSCV_model_2a.best_params_)"
   ]
  },
  {
   "cell_type": "markdown",
   "metadata": {
    "colab_type": "text",
    "id": "xeMz27vOespN"
   },
   "source": [
    "##### 2.1 LGBM 2C (Others Parameters Value)"
   ]
  },
  {
   "cell_type": "code",
   "execution_count": 0,
   "metadata": {
    "colab": {},
    "colab_type": "code",
    "id": "VrOC5TKzewYA"
   },
   "outputs": [],
   "source": [
    "model_2c = LGBMClassifier(random_state=101)\n",
    "\n",
    "# Hyperparameter for Light GBM Classifier\n",
    "param_model_2c = {\n",
    "    'max_depth' : [-1,7,12],\n",
    "    'num_leaves' : [31,70,100,120,1000],\n",
    "    'min_data_in_leaf' : [20,60,100],\n",
    "    'learning_rate' : [0.0001,0.001,0.01],\n",
    "    'num_iterations' :[200,400,600]\n",
    "}\n",
    "\n",
    "# Grid Search CV\n",
    "### model 2c from f1 score\n",
    "GSCV_model_2c = GridSearchCV(estimator=model_2c,\n",
    "                     param_grid=param_model_2c\n",
    "                     ,scoring='f1',cv=3)"
   ]
  },
  {
   "cell_type": "code",
   "execution_count": 0,
   "metadata": {
    "colab": {
     "base_uri": "https://localhost:8080/",
     "height": 255
    },
    "colab_type": "code",
    "id": "idm1y1omfpCO",
    "outputId": "f26f3ec7-b10c-437c-95f4-0811ba97b586"
   },
   "outputs": [
    {
     "name": "stdout",
     "output_type": "stream",
     "text": [
      "=============== CLASSIFICATION REPORT SCORING FROM F1 SCORE ===============\n",
      "              precision    recall  f1-score   support\n",
      "\n",
      "           0       0.81      0.85      0.83      1468\n",
      "           1       0.96      0.95      0.96      6153\n",
      "\n",
      "    accuracy                           0.93      7621\n",
      "   macro avg       0.89      0.90      0.89      7621\n",
      "weighted avg       0.93      0.93      0.93      7621\n",
      "\n",
      "tn :  1242  fp :  226  fn :  283  tp :  5870\n",
      "\n",
      "=============== BEST PARAMETERS SCORING FROM F1 SCORE ===============\n",
      "{'learning_rate': 0.01, 'max_depth': 12, 'min_data_in_leaf': 100, 'num_iterations': 400, 'num_leaves': 31}\n"
     ]
    }
   ],
   "source": [
    "# Fitting Model 2c\n",
    "GSCV_model_2c.fit(X_train_smote,y_train_smote)\n",
    "prediction_2c = GSCV_model_2c.predict(X_test)\n",
    "\n",
    "# Evaluation 2a\n",
    "print('=============== CLASSIFICATION REPORT SCORING FROM F1 SCORE ===============')\n",
    "print(classification_report(y_test,prediction_2c))\n",
    "tn, fp, fn, tp = confusion_matrix(y_test,prediction_2c).ravel()\n",
    "print('tn : ',tn, ' fp : ',fp,' fn : ' ,fn,' tp : ' ,tp)\n",
    "print()\n",
    "print('=============== BEST PARAMETERS SCORING FROM F1 SCORE ===============')\n",
    "print(GSCV_model_2c.best_params_)"
   ]
  },
  {
   "cell_type": "markdown",
   "metadata": {
    "colab_type": "text",
    "id": "W6S1OJZg26cw"
   },
   "source": [
    "### 3. Random Forest"
   ]
  },
  {
   "cell_type": "code",
   "execution_count": 0,
   "metadata": {
    "colab": {
     "base_uri": "https://localhost:8080/",
     "height": 255
    },
    "colab_type": "code",
    "id": "f3Jvf2Xk3BVU",
    "outputId": "d2df38ea-56bb-4881-80d9-7a350f0b68dc"
   },
   "outputs": [
    {
     "name": "stdout",
     "output_type": "stream",
     "text": [
      "=============== CLASSIFICATION REPORT SCORING FROM F1 SCORE ===============\n",
      "              precision    recall  f1-score   support\n",
      "\n",
      "           0       0.72      0.79      0.76      1468\n",
      "           1       0.95      0.93      0.94      6153\n",
      "\n",
      "    accuracy                           0.90      7621\n",
      "   macro avg       0.84      0.86      0.85      7621\n",
      "weighted avg       0.91      0.90      0.90      7621\n",
      "\n",
      "tn :  1166  fp :  302  fn :  449  tp :  5704\n",
      "\n",
      "=============== BEST PARAMETERS SCORING FROM F1 SCORE ===============\n",
      "{'bootstrap': False, 'max_depth': 12, 'min_samples_leaf': 2, 'min_samples_split': 11, 'n_estimators': 150}\n"
     ]
    }
   ],
   "source": [
    "model_3 = RandomForestClassifier(random_state=101)\n",
    "\n",
    "# Hyperparameter for RandomForest\n",
    "param_model_3 = {\n",
    "    'n_estimators' : [100,150,200],\n",
    "    'max_depth' : np.arange(4,14,2),\n",
    "    'min_samples_split' : [i for i in range(3,17,2)],\n",
    "    'min_samples_leaf' : [i for i in range(2,6)],\n",
    "    'bootstrap' : [True,False]\n",
    "}\n",
    "\n",
    "# Grid Search CV\n",
    "### model 3 from f1 score\n",
    "GSCV_model_3 = GridSearchCV(estimator=model_3,\n",
    "                     param_grid=param_model_3\n",
    "                     ,scoring='f1',cv=3)\n",
    "\n",
    "# Fitting Model 3\n",
    "GSCV_model_3.fit(X_train_smote,y_train_smote)\n",
    "prediction_3 = GSCV_model_3.predict(X_test)\n",
    "\n",
    "# Evaluate\n",
    "print('=============== CLASSIFICATION REPORT SCORING FROM F1 SCORE ===============')\n",
    "print(classification_report(y_test,prediction_3))\n",
    "tn, fp, fn, tp = confusion_matrix(y_test,prediction_3).ravel()\n",
    "print('tn : ',tn, ' fp : ',fp,' fn : ' ,fn,' tp : ' ,tp)\n",
    "print()\n",
    "print('=============== BEST PARAMETERS SCORING FROM F1 SCORE ===============')\n",
    "print(GSCV_model_3.best_params_)"
   ]
  },
  {
   "cell_type": "markdown",
   "metadata": {
    "colab_type": "text",
    "id": "XffggO-bwEkw"
   },
   "source": [
    "--------------------------\n",
    "\n",
    "> **From all of this I could conclude that LGBM Classifier is the best algorithm for my machine learning model. So, I will try once again to tuning hyperparameter for our best algorithm (LGBM Classifier) before I decide to use it.**\n",
    "\n",
    "---------------------------"
   ]
  },
  {
   "cell_type": "markdown",
   "metadata": {
    "colab_type": "text",
    "id": "BqV2y--oxRML"
   },
   "source": [
    "# Tuning Hyperparameter Light GBM Classifier"
   ]
  },
  {
   "cell_type": "code",
   "execution_count": 0,
   "metadata": {
    "colab": {
     "base_uri": "https://localhost:8080/",
     "height": 255
    },
    "colab_type": "code",
    "id": "2huNqBVT32lM",
    "outputId": "d449efba-3cec-425b-b25f-29a0daa660ba"
   },
   "outputs": [
    {
     "name": "stdout",
     "output_type": "stream",
     "text": [
      "=============== CLASSIFICATION REPORT SCORING FROM F1 SCORE ===============\n",
      "              precision    recall  f1-score   support\n",
      "\n",
      "           0       0.82      0.85      0.83      1468\n",
      "           1       0.96      0.95      0.96      6153\n",
      "\n",
      "    accuracy                           0.93      7621\n",
      "   macro avg       0.89      0.90      0.90      7621\n",
      "weighted avg       0.94      0.93      0.93      7621\n",
      "\n",
      "tn :  1247  fp :  221  fn :  283  tp :  5870\n",
      "\n",
      "=============== BEST PARAMETERS SCORING FROM F1 SCORE ===============\n",
      "{'learning_rate': 0.005, 'max_depth': 14, 'min_data_in_leaf': 120, 'num_iterations': 800, 'num_leaves': 31}\n"
     ]
    }
   ],
   "source": [
    "model_lgbm = LGBMClassifier(random_state=101)\n",
    "\n",
    "# Hyperparameter for Light GBM Classifier\n",
    "param_model_lgbm = {\n",
    "    'max_depth' : [10,12,14,16],\n",
    "    'num_leaves' : [20,31,70,100],\n",
    "    'min_data_in_leaf' : [100,120,150],\n",
    "    'learning_rate' : [0.005,0.01,0.05],\n",
    "    'num_iterations' :[600,800,1000]\n",
    "}\n",
    "\n",
    "# Grid Search CV\n",
    "### model lgbm from f1 score\n",
    "GSCV_model_lgbm = GridSearchCV(estimator=model_lgbm,\n",
    "                     param_grid=param_model_lgbm\n",
    "                     ,scoring='f1',cv=3)\n",
    "\n",
    "# Fitting Model lgbm\n",
    "GSCV_model_lgbm.fit(X_train_smote,y_train_smote)\n",
    "prediction_lgbm = GSCV_model_lgbm.predict(X_test)\n",
    "\n",
    "# Evaluation lgbm\n",
    "print('=============== CLASSIFICATION REPORT SCORING FROM F1 SCORE ===============')\n",
    "print(classification_report(y_test,prediction_lgbm))\n",
    "tn, fp, fn, tp = confusion_matrix(y_test,prediction_lgbm).ravel()\n",
    "print('tn : ',tn, ' fp : ',fp,' fn : ' ,fn,' tp : ' ,tp)\n",
    "print()\n",
    "print('=============== BEST PARAMETERS SCORING FROM F1 SCORE ===============')\n",
    "print(GSCV_model_lgbm.best_params_)"
   ]
  },
  {
   "cell_type": "markdown",
   "metadata": {
    "colab_type": "text",
    "id": "R5fLrpcVR4mV"
   },
   "source": [
    "-----------------------\n",
    "\n",
    "**Conclusion for LGBM Method :** After tuning hyperparameter LGBM again, we could see it show better result on precission but lower at recall. Because we want to minimize the condition that CHGOFF predicted as PIF, so we need to increase recall 0 (CHGOFF) and precission 1 (PIF). So, the best LGBM Classifier hyperparameter comes from first tuning which has recall 0 87% and PIF 1 97%, and it has acceptable result in others metrics. **The hyperparameter is :**`{'learning_rate': 0.01, 'max_depth': -1, 'min_data_in_leaf': 60, 'num_iterations': 200, 'num_leaves': 70}`\n",
    "\n",
    "-----------------------"
   ]
  },
  {
   "cell_type": "markdown",
   "metadata": {
    "colab_type": "text",
    "id": "zbCkhJclSN6S"
   },
   "source": [
    "# Principal Component Analysis\n",
    "\n",
    "To make greater exploration machine learning processing, in this section I will try to use PCA. But before doing PCA, I will do StandardScaler to standardize the data which could make it better when we put it to PCA. Then, I will use Machine Learning which is LGBM with best hyperparameter.\n",
    "\n",
    "> I will use X_train and y_train from SMOTE, and using original X_test and y_test"
   ]
  },
  {
   "cell_type": "code",
   "execution_count": 0,
   "metadata": {
    "colab": {
     "base_uri": "https://localhost:8080/",
     "height": 352
    },
    "colab_type": "code",
    "id": "Z8SZxXzJx7mb",
    "outputId": "e7d61b9f-254b-41db-98ef-4cd922d6e78a"
   },
   "outputs": [
    {
     "data": {
      "text/plain": [
       "Text(0, 0.5, 'F1 scores')"
      ]
     },
     "execution_count": 9,
     "metadata": {
      "tags": []
     },
     "output_type": "execute_result"
    },
    {
     "data": {
      "image/png": "[encoded data removed]",
      "text/plain": [
       "<Figure size 864x360 with 1 Axes>"
      ]
     },
     "metadata": {
      "needs_background": "light",
      "tags": []
     },
     "output_type": "display_data"
    }
   ],
   "source": [
    "# ------ Library StandarScaler\n",
    "from sklearn.preprocessing import StandardScaler\n",
    "\n",
    "# ------ Standard Scaler\n",
    "scaler = StandardScaler()\n",
    "## Fit Scaler for Train\n",
    "scaled_Xtrain = scaler.fit_transform(X_train_smote)\n",
    "## Fit Sclaer for Test Data\n",
    "scaled_Xtest = scaler.transform(X_test)\n",
    "\n",
    "# ------ Library PCA\n",
    "from sklearn.decomposition import PCA\n",
    "\n",
    "F1_score = []\n",
    "\n",
    "# ------- Check Learning Curve to The Best n_components\n",
    "for i in range(1,31):\n",
    "    pca = PCA(n_components=i,random_state=101)\n",
    "    X_pca = pca.fit_transform(scaled_Xtrain)\n",
    "    model = LGBMClassifier(random_state=101,learning_rate=0.01,max_depth=-1,min_data_in_leaf=60,num_iterations=200,num_leaves=70)\n",
    "    cv_mean = cross_val_score(model,X_pca,y_train_smote,cv=3,scoring='f1').mean()\n",
    "    F1_score.append(cv_mean)\n",
    "\n",
    "# -------- Plot Graph n_components vs F1 Score\n",
    "plt.figure(figsize=(12,5))\n",
    "plt.plot(F1_score, color='blue', marker='o',markerfacecolor='red',linestyle='dashed')\n",
    "plt.xlabel('n_components')\n",
    "plt.ylabel('F1 scores')"
   ]
  },
  {
   "cell_type": "markdown",
   "metadata": {
    "colab_type": "text",
    "id": "oqPRKy7bUXIG"
   },
   "source": [
    "> From this result, we could see that **the best n_component is 8**. So, we will use this as parameter for modelling with PCA."
   ]
  },
  {
   "cell_type": "code",
   "execution_count": 0,
   "metadata": {
    "colab": {
     "base_uri": "https://localhost:8080/",
     "height": 194
    },
    "colab_type": "code",
    "id": "EbqKun-ZUipX",
    "outputId": "3c2a7fc4-081a-4d35-e26f-62015faba5a8"
   },
   "outputs": [
    {
     "name": "stdout",
     "output_type": "stream",
     "text": [
      "=============== CLASSIFICATION REPORT PCA ===============\n",
      "              precision    recall  f1-score   support\n",
      "\n",
      "           0       0.48      0.63      0.55      1468\n",
      "           1       0.91      0.84      0.87      6153\n",
      "\n",
      "    accuracy                           0.80      7621\n",
      "   macro avg       0.69      0.74      0.71      7621\n",
      "weighted avg       0.82      0.80      0.81      7621\n",
      "\n"
     ]
    }
   ],
   "source": [
    "# Doing PCA\n",
    "pca = PCA(n_components=8,random_state=101)\n",
    "pca_Xtrain = pca.fit_transform(scaled_Xtrain)\n",
    "pca_Xtest = pca.transform(scaled_Xtest)\n",
    "\n",
    "# Modelling with LGBM\n",
    "model_pca = LGBMClassifier(random_state=101,learning_rate=0.01,max_depth=-1,min_data_in_leaf=60,num_iterations=200,num_leaves=70)\n",
    "model_pca.fit(pca_Xtrain,y_train_smote)\n",
    "prediction_pca = model_pca.predict(pca_Xtest)\n",
    "print('=============== CLASSIFICATION REPORT PCA ===============')\n",
    "print(classification_report(y_test,prediction_pca))"
   ]
  },
  {
   "cell_type": "markdown",
   "metadata": {
    "colab_type": "text",
    "id": "PX4_I3xhWFjV"
   },
   "source": [
    "# Conclusion for Machine Learning\n",
    "After all method that I have tried to find the best model to predict SBA Loan Dataset, the best machine learning model still **Light GBM Classifier with hyperparameter :** `{'learning_rate': 0.01, 'max_depth': -1, 'min_data_in_leaf': 60, 'num_iterations': 200, 'num_leaves': 70}`\n",
    "\n",
    "**The final model could we see in the following below :**"
   ]
  },
  {
   "cell_type": "code",
   "execution_count": 0,
   "metadata": {
    "colab": {
     "base_uri": "https://localhost:8080/",
     "height": 194
    },
    "colab_type": "code",
    "id": "v7ue7Qz21HXO",
    "outputId": "308d2477-30ed-4057-cc0e-76a0ccf50869"
   },
   "outputs": [
    {
     "name": "stdout",
     "output_type": "stream",
     "text": [
      "=============== CLASSIFICATION REPORT ===============\n",
      "              precision    recall  f1-score   support\n",
      "\n",
      "           0       0.78      0.87      0.83      1468\n",
      "           1       0.97      0.94      0.96      6153\n",
      "\n",
      "    accuracy                           0.93      7621\n",
      "   macro avg       0.88      0.91      0.89      7621\n",
      "weighted avg       0.93      0.93      0.93      7621\n",
      "\n"
     ]
    }
   ],
   "source": [
    "# ------- Final Model\n",
    "LGBM_Model = LGBMClassifier(random_state=101,learning_rate=0.01,max_depth=-1,min_data_in_leaf=60,num_iterations=200,num_leaves=70)\n",
    "LGBM_Model.fit(X_train_smote,y_train_smote)\n",
    "PredictionLGBM = LGBM_Model.predict(X_test)\n",
    "print('=============== CLASSIFICATION REPORT ===============')\n",
    "print(classification_report(y_test,PredictionLGBM))"
   ]
  },
  {
   "cell_type": "code",
   "execution_count": 0,
   "metadata": {
    "colab": {
     "base_uri": "https://localhost:8080/",
     "height": 298
    },
    "colab_type": "code",
    "id": "Jy-lnrnMxNZh",
    "outputId": "99eeaea9-5542-4a7e-c3f4-de36f5041540"
   },
   "outputs": [
    {
     "data": {
      "text/plain": [
       "<matplotlib.legend.Legend at 0x7f2319da6358>"
      ]
     },
     "execution_count": 9,
     "metadata": {
      "tags": []
     },
     "output_type": "execute_result"
    },
    {
     "data": {
      "image/png": "[encoded data removed]",
      "text/plain": [
       "<Figure size 432x288 with 1 Axes>"
      ]
     },
     "metadata": {
      "needs_background": "light",
      "tags": []
     },
     "output_type": "display_data"
    }
   ],
   "source": [
    "# -------- AUC-ROC Curve\n",
    "pred_proba = LGBM_Model.predict_proba(X_test)\n",
    "prediction_AUC = pred_proba[:,1]\n",
    "\n",
    "FPR, TPR, Threshold = roc_curve(y_test,prediction_AUC)\n",
    "roc_auc = auc(FPR,TPR)\n",
    "\n",
    "# Plot\n",
    "plt.plot(FPR,TPR,label=f'AUC{round(roc_auc,2)}')\n",
    "plt.plot([0,1],[0,1])\n",
    "plt.title('Graph AUROC')\n",
    "plt.legend()"
   ]
  },
  {
   "cell_type": "code",
   "execution_count": 0,
   "metadata": {
    "colab": {
     "base_uri": "https://localhost:8080/",
     "height": 230
    },
    "colab_type": "code",
    "id": "wb9m8KCHp1yI",
    "outputId": "b8b52e3a-3d19-4cb2-ae44-06d0bc545d6e"
   },
   "outputs": [
    {
     "name": "stdout",
     "output_type": "stream",
     "text": [
      "=============== CLASSIFICATION REPORT SCORING FROM F1 SCORE ===============\n",
      "              precision    recall  f1-score   support\n",
      "\n",
      "           0       0.62      0.87      0.72      4826\n",
      "           1       0.97      0.90      0.93     25174\n",
      "\n",
      "    accuracy                           0.89     30000\n",
      "   macro avg       0.79      0.88      0.83     30000\n",
      "weighted avg       0.92      0.89      0.90     30000\n",
      "\n",
      "tn :  4204  fp :  622  fn :  2617  tp :  22557\n",
      "\n"
     ]
    }
   ],
   "source": [
    "df_input = df[(df['State'] != 'AZ') | (df['State'] != 'KS') | #Yellow Zone\n",
    "              (df['State'] != 'ND') | (df['State'] != 'WY') | #Red Zone\n",
    "              (df['State'] != 'GA') | (df['State'] != 'FL')].sample(30000,random_state=101)  #Darkgreen Zone\n",
    "\n",
    "# Features Target\n",
    "newdata_features = df_input.drop(['State','ApprovalFY','MIS_Status'],axis=1)\n",
    "newdata_true_label = df_input['MIS_Status']\n",
    "\n",
    "# Prediction\n",
    "prediction_newdata = LGBM_Model.predict(newdata_features)\n",
    "\n",
    "# Evaluation\n",
    "print('=============== CLASSIFICATION REPORT SCORING FROM F1 SCORE ===============')\n",
    "print(classification_report(newdata_true_label,prediction_newdata))\n",
    "tn, fp, fn, tp = confusion_matrix(newdata_true_label,prediction_newdata).ravel()\n",
    "print('tn : ',tn, ' fp : ',fp,' fn : ' ,fn,' tp : ' ,tp)\n",
    "print()"
   ]
  },
  {
   "cell_type": "code",
   "execution_count": 0,
   "metadata": {
    "colab": {},
    "colab_type": "code",
    "id": "TJRTnNExqgj-"
   },
   "outputs": [],
   "source": []
  }
 ],
 "metadata": {
  "colab": {
   "collapsed_sections": [],
   "name": "Machine Learning Final Project.ipynb",
   "provenance": []
  },
  "kernelspec": {
   "display_name": "Python 3",
   "language": "python",
   "name": "python3"
  },
  "language_info": {
   "codemirror_mode": {
    "name": "ipython",
    "version": 3
   },
   "file_extension": ".py",
   "mimetype": "text/x-python",
   "name": "python",
   "nbconvert_exporter": "python",
   "pygments_lexer": "ipython3",
   "version": "3.7.4"
  }
 },
 "nbformat": 4,
 "nbformat_minor": 1
}
